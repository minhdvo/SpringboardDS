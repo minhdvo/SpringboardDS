{
 "cells": [
  {
   "cell_type": "markdown",
   "metadata": {},
   "source": [
    "# Examining Racial Discrimination in the US Job Market\n",
    "\n",
    "### Background\n",
    "Racial discrimination continues to be pervasive in cultures throughout the world. Researchers examined the level of racial discrimination in the United States labor market by randomly assigning identical résumés to black-sounding or white-sounding names and observing the impact on requests for interviews from employers.\n",
    "\n",
    "### Data\n",
    "In the dataset provided, each row represents a resume. The 'race' column has two values, 'b' and 'w', indicating black-sounding and white-sounding. The column 'call' has two values, 1 and 0, indicating whether the resume received a call from employers or not.\n",
    "\n",
    "Note that the 'b' and 'w' values in race are assigned randomly to the resumes when presented to the employer."
   ]
  },
  {
   "cell_type": "markdown",
   "metadata": {},
   "source": [
    "### Exercises\n",
    "You will perform a statistical analysis to establish whether race has a significant impact on the rate of callbacks for resumes.\n",
    "\n",
    "Answer the following questions **in this notebook below and submit to your Github account**. \n",
    "\n",
    "   1. What test is appropriate for this problem? Does CLT apply?\n",
    "   2. What are the null and alternate hypotheses?\n",
    "   3. Compute margin of error, confidence interval, and p-value. Try using both the bootstrapping and the frequentist statistical approaches.\n",
    "   4. Write a story describing the statistical significance in the context or the original problem.\n",
    "   5. Does your analysis mean that race/name is the most important factor in callback success? Why or why not? If not, how would you amend your analysis?\n",
    "\n",
    "You can include written notes in notebook cells using Markdown: \n",
    "   - In the control panel at the top, choose Cell > Cell Type > Markdown\n",
    "   - Markdown syntax: http://nestacms.com/docs/creating-content/markdown-cheat-sheet\n",
    "\n",
    "#### Resources\n",
    "+ Experiment information and data source: http://www.povertyactionlab.org/evaluation/discrimination-job-market-united-states\n",
    "+ Scipy statistical methods: http://docs.scipy.org/doc/scipy/reference/stats.html \n",
    "+ Markdown syntax: http://nestacms.com/docs/creating-content/markdown-cheat-sheet\n",
    "+ Formulas for the Bernoulli distribution: https://en.wikipedia.org/wiki/Bernoulli_distribution"
   ]
  },
  {
   "cell_type": "code",
   "execution_count": 1,
   "metadata": {
    "collapsed": true
   },
   "outputs": [],
   "source": [
    "import pandas as pd\n",
    "import numpy as np\n",
    "from scipy import stats\n",
    "from __future__ import division\n",
    "\n",
    "%matplotlib inline\n",
    "import matplotlib.pyplot as plt"
   ]
  },
  {
   "cell_type": "code",
   "execution_count": 2,
   "metadata": {
    "collapsed": true
   },
   "outputs": [],
   "source": [
    "data = pd.io.stata.read_stata('data/us_job_market_discrimination.dta')"
   ]
  },
  {
   "cell_type": "code",
   "execution_count": 3,
   "metadata": {
    "collapsed": false
   },
   "outputs": [
    {
     "data": {
      "text/plain": [
       "235.0"
      ]
     },
     "execution_count": 3,
     "metadata": {},
     "output_type": "execute_result"
    }
   ],
   "source": [
    "# number of callbacks for black-sounding names\n",
    "sum(data[data.race=='w'].call)"
   ]
  },
  {
   "cell_type": "code",
   "execution_count": 4,
   "metadata": {
    "collapsed": false,
    "scrolled": true
   },
   "outputs": [
    {
     "data": {
      "text/html": [
       "<div>\n",
       "<table border=\"1\" class=\"dataframe\">\n",
       "  <thead>\n",
       "    <tr style=\"text-align: right;\">\n",
       "      <th></th>\n",
       "      <th>id</th>\n",
       "      <th>ad</th>\n",
       "      <th>education</th>\n",
       "      <th>ofjobs</th>\n",
       "      <th>yearsexp</th>\n",
       "      <th>honors</th>\n",
       "      <th>volunteer</th>\n",
       "      <th>military</th>\n",
       "      <th>empholes</th>\n",
       "      <th>occupspecific</th>\n",
       "      <th>...</th>\n",
       "      <th>compreq</th>\n",
       "      <th>orgreq</th>\n",
       "      <th>manuf</th>\n",
       "      <th>transcom</th>\n",
       "      <th>bankreal</th>\n",
       "      <th>trade</th>\n",
       "      <th>busservice</th>\n",
       "      <th>othservice</th>\n",
       "      <th>missind</th>\n",
       "      <th>ownership</th>\n",
       "    </tr>\n",
       "  </thead>\n",
       "  <tbody>\n",
       "    <tr>\n",
       "      <th>0</th>\n",
       "      <td>b</td>\n",
       "      <td>1</td>\n",
       "      <td>4</td>\n",
       "      <td>2</td>\n",
       "      <td>6</td>\n",
       "      <td>0</td>\n",
       "      <td>0</td>\n",
       "      <td>0</td>\n",
       "      <td>1</td>\n",
       "      <td>17</td>\n",
       "      <td>...</td>\n",
       "      <td>1</td>\n",
       "      <td>0</td>\n",
       "      <td>1</td>\n",
       "      <td>0</td>\n",
       "      <td>0</td>\n",
       "      <td>0</td>\n",
       "      <td>0</td>\n",
       "      <td>0</td>\n",
       "      <td>0</td>\n",
       "      <td></td>\n",
       "    </tr>\n",
       "    <tr>\n",
       "      <th>1</th>\n",
       "      <td>b</td>\n",
       "      <td>1</td>\n",
       "      <td>3</td>\n",
       "      <td>3</td>\n",
       "      <td>6</td>\n",
       "      <td>0</td>\n",
       "      <td>1</td>\n",
       "      <td>1</td>\n",
       "      <td>0</td>\n",
       "      <td>316</td>\n",
       "      <td>...</td>\n",
       "      <td>1</td>\n",
       "      <td>0</td>\n",
       "      <td>1</td>\n",
       "      <td>0</td>\n",
       "      <td>0</td>\n",
       "      <td>0</td>\n",
       "      <td>0</td>\n",
       "      <td>0</td>\n",
       "      <td>0</td>\n",
       "      <td></td>\n",
       "    </tr>\n",
       "    <tr>\n",
       "      <th>2</th>\n",
       "      <td>b</td>\n",
       "      <td>1</td>\n",
       "      <td>4</td>\n",
       "      <td>1</td>\n",
       "      <td>6</td>\n",
       "      <td>0</td>\n",
       "      <td>0</td>\n",
       "      <td>0</td>\n",
       "      <td>0</td>\n",
       "      <td>19</td>\n",
       "      <td>...</td>\n",
       "      <td>1</td>\n",
       "      <td>0</td>\n",
       "      <td>1</td>\n",
       "      <td>0</td>\n",
       "      <td>0</td>\n",
       "      <td>0</td>\n",
       "      <td>0</td>\n",
       "      <td>0</td>\n",
       "      <td>0</td>\n",
       "      <td></td>\n",
       "    </tr>\n",
       "    <tr>\n",
       "      <th>3</th>\n",
       "      <td>b</td>\n",
       "      <td>1</td>\n",
       "      <td>3</td>\n",
       "      <td>4</td>\n",
       "      <td>6</td>\n",
       "      <td>0</td>\n",
       "      <td>1</td>\n",
       "      <td>0</td>\n",
       "      <td>1</td>\n",
       "      <td>313</td>\n",
       "      <td>...</td>\n",
       "      <td>1</td>\n",
       "      <td>0</td>\n",
       "      <td>1</td>\n",
       "      <td>0</td>\n",
       "      <td>0</td>\n",
       "      <td>0</td>\n",
       "      <td>0</td>\n",
       "      <td>0</td>\n",
       "      <td>0</td>\n",
       "      <td></td>\n",
       "    </tr>\n",
       "    <tr>\n",
       "      <th>4</th>\n",
       "      <td>b</td>\n",
       "      <td>1</td>\n",
       "      <td>3</td>\n",
       "      <td>3</td>\n",
       "      <td>22</td>\n",
       "      <td>0</td>\n",
       "      <td>0</td>\n",
       "      <td>0</td>\n",
       "      <td>0</td>\n",
       "      <td>313</td>\n",
       "      <td>...</td>\n",
       "      <td>1</td>\n",
       "      <td>1</td>\n",
       "      <td>0</td>\n",
       "      <td>0</td>\n",
       "      <td>0</td>\n",
       "      <td>0</td>\n",
       "      <td>0</td>\n",
       "      <td>1</td>\n",
       "      <td>0</td>\n",
       "      <td>Nonprofit</td>\n",
       "    </tr>\n",
       "  </tbody>\n",
       "</table>\n",
       "<p>5 rows × 65 columns</p>\n",
       "</div>"
      ],
      "text/plain": [
       "  id ad  education  ofjobs  yearsexp  honors  volunteer  military  empholes  \\\n",
       "0  b  1          4       2         6       0          0         0         1   \n",
       "1  b  1          3       3         6       0          1         1         0   \n",
       "2  b  1          4       1         6       0          0         0         0   \n",
       "3  b  1          3       4         6       0          1         0         1   \n",
       "4  b  1          3       3        22       0          0         0         0   \n",
       "\n",
       "   occupspecific    ...      compreq  orgreq  manuf  transcom  bankreal trade  \\\n",
       "0             17    ...            1       0      1         0         0     0   \n",
       "1            316    ...            1       0      1         0         0     0   \n",
       "2             19    ...            1       0      1         0         0     0   \n",
       "3            313    ...            1       0      1         0         0     0   \n",
       "4            313    ...            1       1      0         0         0     0   \n",
       "\n",
       "  busservice othservice  missind  ownership  \n",
       "0          0          0        0             \n",
       "1          0          0        0             \n",
       "2          0          0        0             \n",
       "3          0          0        0             \n",
       "4          0          1        0  Nonprofit  \n",
       "\n",
       "[5 rows x 65 columns]"
      ]
     },
     "execution_count": 4,
     "metadata": {},
     "output_type": "execute_result"
    }
   ],
   "source": [
    "data.head()"
   ]
  },
  {
   "cell_type": "markdown",
   "metadata": {
    "collapsed": true
   },
   "source": [
    "<div class=\"span5 alert alert-success\">\n",
    "<p>Your answers to Q1 and Q2 here</p>\n",
    "</div>"
   ]
  },
  {
   "cell_type": "markdown",
   "metadata": {},
   "source": [
    "1. What test is appropriate for this problem? Does CLT apply?\n",
    "2. What are the null and alternate hypotheses?"
   ]
  },
  {
   "cell_type": "code",
   "execution_count": 5,
   "metadata": {
    "collapsed": true
   },
   "outputs": [],
   "source": [
    "# data for white and black applicants\n",
    "w = data[data.race=='w']\n",
    "b = data[data.race=='b']"
   ]
  },
  {
   "cell_type": "code",
   "execution_count": 6,
   "metadata": {
    "collapsed": false
   },
   "outputs": [
    {
     "name": "stdout",
     "output_type": "stream",
     "text": [
      "('Total white applicant: ', 2435)\n",
      "('Number of callbacks for white applicants: ', 235.0)\n",
      "Percent of callbacks for white applicants: 0.0965\n"
     ]
    }
   ],
   "source": [
    "# white applicants\n",
    "n1 = len(w)\n",
    "print('Total white applicant: ', n1)\n",
    "x1 = w.call.sum()\n",
    "print('Number of callbacks for white applicants: ',x1)\n",
    "p1 = x1/n1\n",
    "print('Percent of callbacks for white applicants: %.4f' % p1)"
   ]
  },
  {
   "cell_type": "code",
   "execution_count": 7,
   "metadata": {
    "collapsed": false
   },
   "outputs": [
    {
     "name": "stdout",
     "output_type": "stream",
     "text": [
      "('Total black applicant: ', 2435)\n",
      "('Number of callbacks for black applicants: ', 157.0)\n",
      "Percent of callbacks for black applicants: 0.0645\n"
     ]
    }
   ],
   "source": [
    "# black applicants\n",
    "n2 = len(b)\n",
    "print('Total black applicant: ', n2)\n",
    "x2 = b.call.sum()\n",
    "print('Number of callbacks for black applicants: ',x2)\n",
    "p2 = x2/n2\n",
    "print('Percent of callbacks for black applicants: %.4f' % p2)"
   ]
  },
  {
   "cell_type": "code",
   "execution_count": 8,
   "metadata": {
    "collapsed": false
   },
   "outputs": [
    {
     "name": "stdout",
     "output_type": "stream",
     "text": [
      "('Total all of applicants: ', 4870)\n"
     ]
    }
   ],
   "source": [
    "print('Total all of applicants: ', len(data))"
   ]
  },
  {
   "cell_type": "code",
   "execution_count": 9,
   "metadata": {
    "collapsed": false
   },
   "outputs": [
    {
     "data": {
      "text/plain": [
       "(0, 4)"
      ]
     },
     "execution_count": 9,
     "metadata": {},
     "output_type": "execute_result"
    },
    {
     "data": {
      "image/png": "[encoded data removed]",
      "text/plain": [
       "<matplotlib.figure.Figure at 0x1b709780>"
      ]
     },
     "metadata": {},
     "output_type": "display_data"
    }
   ],
   "source": [
    "ind = [1,2]\n",
    "f1 = plt.bar(ind,[x1,x2],width=0.6,color='red',align='center')\n",
    "f2 = plt.bar(ind,[n1-x1,n2-x2],width=0.6,bottom=[x1,x2],align='center')\n",
    "plt.xticks(ind,['White','Black'])\n",
    "plt.ylabel('Number of applicants')\n",
    "plt.legend((f1[0],f2[0]),('Callback','No callback'),loc=5)\n",
    "plt.xlim([0,4])\n"
   ]
  },
  {
   "cell_type": "markdown",
   "metadata": {},
   "source": [
    "# Answer Q1:\n",
    "This problem is related to compare two population proportion (white and back applicants). The objective is to determine whether race has a significant impact on the rate of callbacks for resumes. \n",
    "\n",
    "The CLT can apply in this case (samples must be randomly selected). Sample size is larger than 30, so z-statistics is more suitable than t-statistics. \n"
   ]
  },
  {
   "cell_type": "markdown",
   "metadata": {},
   "source": [
    "# Answer Q2:\n",
    "It can considered that we have two populations (black and white applicants).\n",
    "\n",
    "Call $p_1$ and $p_2$ be percent of callbacks for white and black applicants, respectively.\n",
    "\n",
    "So, the null hypothesis ($H_0$) is that there is no significant difference between whites and blacks (population proportion). \n",
    " \n",
    "Conversely the alternative hypothesis is that the proportion white callbacks does not equal the proportion of black callbacks.\n",
    "\n",
    "$H_0 :  p_1 - p_2 = 0 $\n",
    "\n",
    "$H_1 :  p_1 - p_2 \\neq 0 $\n"
   ]
  },
  {
   "cell_type": "code",
   "execution_count": 10,
   "metadata": {
    "collapsed": true
   },
   "outputs": [],
   "source": [
    "# Your solution to Q3 here"
   ]
  },
  {
   "cell_type": "markdown",
   "metadata": {},
   "source": [
    "Compute margin of error, confidence interval, and p-value. Try using both the bootstrapping and the frequentist statistical approaches."
   ]
  },
  {
   "cell_type": "markdown",
   "metadata": {},
   "source": [
    "## Bootstrapping approach"
   ]
  },
  {
   "cell_type": "code",
   "execution_count": 11,
   "metadata": {
    "collapsed": true
   },
   "outputs": [],
   "source": [
    "np.random.seed(1)\n",
    "\n",
    "# No of bootstrap sample (N)\n",
    "N = 10000\n",
    "\n",
    "# percent callbacks for white in bootstrapping\n",
    "w_bs = np.empty(N)\n",
    "# percent callbacks for black in bootstrapping\n",
    "b_bs = np.empty(N)\n",
    "# difference of percent callbacks between whites and blacks\n",
    "diff_bs = np.empty(N)"
   ]
  },
  {
   "cell_type": "code",
   "execution_count": 12,
   "metadata": {
    "collapsed": false
   },
   "outputs": [],
   "source": [
    "# generate bootstraps\n",
    "for i in range(N):    \n",
    "    w_bs[i] = np.sum(np.random.choice(data.call,size=n1))/n1\n",
    "    b_bs[i] = np.sum(np.random.choice(data.call,size=n2))/n2\n",
    "    diff_bs[i] = w_bs[i] - b_bs[i]"
   ]
  },
  {
   "cell_type": "code",
   "execution_count": 13,
   "metadata": {
    "collapsed": false
   },
   "outputs": [
    {
     "data": {
      "text/plain": [
       "<matplotlib.text.Text at 0x1bb74a20>"
      ]
     },
     "execution_count": 13,
     "metadata": {},
     "output_type": "execute_result"
    },
    {
     "data": {
      "image/png": "[encoded data removed]",
      "text/plain": [
       "<matplotlib.figure.Figure at 0x1b9e11d0>"
      ]
     },
     "metadata": {},
     "output_type": "display_data"
    }
   ],
   "source": [
    "_ = plt.hist(diff_bs,normed=True)\n",
    "plt.xlabel('Difference of percent callbacks between whites and blacks')\n",
    "plt.ylabel('PDF')\n",
    "plt.title('Bootstrapping approach')"
   ]
  },
  {
   "cell_type": "code",
   "execution_count": 14,
   "metadata": {
    "collapsed": false
   },
   "outputs": [
    {
     "name": "stdout",
     "output_type": "stream",
     "text": [
      "alpha = 0.05\n",
      "p-value = 0.0001\n",
      "Ho can be rejected\n"
     ]
    }
   ],
   "source": [
    "print('alpha = 0.05')\n",
    "alpha = 0.05\n",
    "\n",
    "# Print the p-value\n",
    "p_value_bs = np.sum(diff_bs >= (p1-p2))/len(diff_bs)\n",
    "print('p-value = %.4f' % p_value_bs)\n",
    "\n",
    "if p_value_bs < alpha:\n",
    "    print('Ho can be rejected')\n",
    "else:\n",
    "    print('Ho cannot be rejected')\n"
   ]
  },
  {
   "cell_type": "code",
   "execution_count": 15,
   "metadata": {
    "collapsed": false
   },
   "outputs": [
    {
     "name": "stdout",
     "output_type": "stream",
     "text": [
      "('The margin of error : ', 0.015400410677618069)\n",
      "('Confidence interval : ', array([-0.01560575,  0.01519507]))\n"
     ]
    }
   ],
   "source": [
    "ci_bs = np.percentile(diff_bs,[2.5, 97.5])\n",
    "me_bs = 0.5*(ci_bs[1]-ci_bs[0])\n",
    "\n",
    "print('The margin of error : ', me_bs)\n",
    "print('Confidence interval : ', ci_bs)"
   ]
  },
  {
   "cell_type": "markdown",
   "metadata": {},
   "source": [
    "## Frequentist statistical approach"
   ]
  },
  {
   "cell_type": "code",
   "execution_count": 16,
   "metadata": {
    "collapsed": true
   },
   "outputs": [],
   "source": [
    "# whites \n",
    "# total applicants (n1) and percent of callbacks (p1)\n",
    "# variance (var1)\n",
    "var_1 = p1*(1-p1)/n1\n",
    "\n",
    "# blacks\n",
    "# total applicants (n2) and percent of callbacks (p2)\n",
    "# variance (var2)\n",
    "var_2 = p2*(1-p2)/n2\n",
    "\n",
    "# difference in callback percent \n",
    "diff_fre = p1-p2\n",
    "\n",
    "# standard error\n",
    "diff_std = np.sqrt(var_1 + var_2)"
   ]
  },
  {
   "cell_type": "code",
   "execution_count": 17,
   "metadata": {
    "collapsed": false
   },
   "outputs": [
    {
     "name": "stdout",
     "output_type": "stream",
     "text": [
      "('z-score : ', 4.1155504357300003)\n",
      "('p-value : ', 3.862565207524149e-05)\n",
      "Ho can be rejected\n"
     ]
    }
   ],
   "source": [
    "# use z-statistics\n",
    "z_score = diff_fre/diff_std\n",
    "print('z-score : ',z_score)\n",
    "\n",
    "# p_value (2 tails)\n",
    "p_value = (1-stats.norm.cdf(z_score))*2\n",
    "print('p-value : ', p_value)\n",
    "\n",
    "# significance level (alpha = 0.05)\n",
    "if p_value < alpha:\n",
    "    print('Ho can be rejected')\n",
    "else:\n",
    "    print('Ho cannot be rejected')"
   ]
  },
  {
   "cell_type": "code",
   "execution_count": 18,
   "metadata": {
    "collapsed": false
   },
   "outputs": [
    {
     "name": "stdout",
     "output_type": "stream",
     "text": [
      "('The margin of error : ', 0.015255406349886438)\n",
      "('Confidence interval : ', [0.016777447859559147, 0.047288260559332024])\n"
     ]
    }
   ],
   "source": [
    "# margin of error\n",
    "# the critical Z-score values when using a 95% confidence level is 1.96\n",
    "me = 1.96 * diff_std\n",
    "print('The margin of error : ', me)\n",
    "\n",
    "# confidence interval\n",
    "ci = [diff_fre - me, diff_fre + me]\n",
    "print('Confidence interval : ', ci)"
   ]
  },
  {
   "cell_type": "markdown",
   "metadata": {},
   "source": [
    "## Answer Q3:\n",
    "The margin of error, confidence interval, and p-value."
   ]
  },
  {
   "cell_type": "code",
   "execution_count": 19,
   "metadata": {
    "collapsed": false
   },
   "outputs": [
    {
     "data": {
      "text/html": [
       "<div>\n",
       "<table border=\"1\" class=\"dataframe\">\n",
       "  <thead>\n",
       "    <tr style=\"text-align: right;\">\n",
       "      <th></th>\n",
       "      <th>Bootstrapping</th>\n",
       "      <th>Freqentist</th>\n",
       "    </tr>\n",
       "  </thead>\n",
       "  <tbody>\n",
       "    <tr>\n",
       "      <th>Margin of Error</th>\n",
       "      <td>0.0154004</td>\n",
       "      <td>0.0152554</td>\n",
       "    </tr>\n",
       "    <tr>\n",
       "      <th>Confidence interval</th>\n",
       "      <td>[-0.0156057494867, 0.0151950718686]</td>\n",
       "      <td>[0.0167774478596, 0.0472882605593]</td>\n",
       "    </tr>\n",
       "    <tr>\n",
       "      <th>p-value</th>\n",
       "      <td>0.0001</td>\n",
       "      <td>3.86257e-05</td>\n",
       "    </tr>\n",
       "  </tbody>\n",
       "</table>\n",
       "</div>"
      ],
      "text/plain": [
       "                                           Bootstrapping  \\\n",
       "Margin of Error                                0.0154004   \n",
       "Confidence interval  [-0.0156057494867, 0.0151950718686]   \n",
       "p-value                                           0.0001   \n",
       "\n",
       "                                             Freqentist  \n",
       "Margin of Error                               0.0152554  \n",
       "Confidence interval  [0.0167774478596, 0.0472882605593]  \n",
       "p-value                                     3.86257e-05  "
      ]
     },
     "execution_count": 19,
     "metadata": {},
     "output_type": "execute_result"
    }
   ],
   "source": [
    "a = {\"Bootstrapping\":[me_bs,ci_bs,p_value_bs],\"Freqentist\":[me,ci,p_value]}\n",
    "pd.DataFrame(a,index=['Margin of Error','Confidence interval','p-value'])\n"
   ]
  },
  {
   "cell_type": "markdown",
   "metadata": {},
   "source": [
    "<div class=\"span5 alert alert-success\">\n",
    "<p> Your answers to Q4 and Q5 here </p>\n",
    "</div>"
   ]
  },
  {
   "cell_type": "markdown",
   "metadata": {
    "collapsed": true
   },
   "source": [
    "Write a story describing the statistical significance in the context or the original problem.\n",
    "\n",
    "Does your analysis mean that race/name is the most important factor in callback success? Why or why not? If not, how would you amend your analysis?"
   ]
  },
  {
   "cell_type": "markdown",
   "metadata": {},
   "source": [
    "# Answer Q4:\n",
    "With 95% confidence, both of the statistical tests from bootstrapping and frequentionist approaches are very low (< 0.05). It suggests that the null hypothesis can be rejected (there is a significant difference in the rate of callbacks for resumes between white and black applicants).\n",
    "\n",
    "White applicants has higher acceptance rate than black ones.\n"
   ]
  },
  {
   "cell_type": "markdown",
   "metadata": {},
   "source": [
    "# Answer Q5: \n",
    "No, it does not. Our investigation only proved that the influence of race/name on the callback success. We can not conclude this is the most important factor.\n",
    "\n",
    "Based on our data, there could be other factors (such as education, ages, experience ...) that affect the rate of callback. To determine the most important factor in callback success, it needs to carry out a further analysis. \n"
   ]
  }
 ],
 "metadata": {
  "kernelspec": {
   "display_name": "Python 2",
   "language": "python",
   "name": "python2"
  },
  "language_info": {
   "codemirror_mode": {
    "name": "ipython",
    "version": 2
   },
   "file_extension": ".py",
   "mimetype": "text/x-python",
   "name": "python",
   "nbconvert_exporter": "python",
   "pygments_lexer": "ipython2",
   "version": "2.7.11"
  }
 },
 "nbformat": 4,
 "nbformat_minor": 1
}
